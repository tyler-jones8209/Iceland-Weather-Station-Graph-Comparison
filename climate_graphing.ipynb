import matplotlib.pyplot as plt
import csv
import calendar

# turn an integer value into its corresponding month name
def num_to_month(num):
    if 1 <= num <= 12:
        return calendar.month_name[num]
    else:
        raise ValueError("Value must be a number from 1 to 12")

# extract year, month, average temp, and avergae wind speed from weather station csv
def wind_n_temp(input_file):
    with open(input_file, 'r') as file:
        data = csv.reader(file)
        next(data) # skip name header
        next(data) # skip letter thingies
    
        avg_temp = [] # line[3] - t
        avg_wind = [] # line[17] - f
        
        for line in data:
            if line[3].strip() != 'NA':
                avg_temp.append([line[1], line[2], line[3]])
            if line[17].strip() != 'NA':
                avg_wind.append([line[1], line[2], line[17]])
        display_name = input_file.split('.')[0].capitalize()
        return avg_temp, avg_wind, display_name

# turned year index generation into a function instead of doing it for each data column being used
def generate_year_indices(data, year_start, year_end):
    start_index = None
    end_index = None
    for i, line in enumerate(data):
        if int(line[0]) == year_start:
            start_index = i
            break
    for i, line in enumerate(data):
        if int(line[0]) == year_end:
            end_index = i
    if start_index is None or end_index is None:
        raise ValueError(f"{year_start}, {year_end}, or both, are out of range.")
    return start_index, end_index

# plot temp data
def plot_temp(avg_temp, diplay_name, year_start, year_end):

    # generate start and end indices
    start_index, end_index = generate_year_indices(avg_temp, year_start, year_end)

    # use a line graph if only analyzing one year
    if year_start == year_end:
        x_vals = [num_to_month(int(x[1])) for x in avg_temp[start_index:end_index + 1]]
        y_vals = [float(x[2]) for x in avg_temp[start_index:end_index + 1]]

        plt.xlabel(str(year_start))
        plt.xticks(rotation=33)
        plt.plot(x_vals, y_vals, alpha=0.7, color='red', marker='.', ms=10)
    
    # use a scatter plot when multiple years are used with each dot being a month of the year
    else:
        x_vals = [x[0] for x in avg_temp[start_index:end_index + 1]]
        y_vals = [float(x[2]) for x in avg_temp[start_index:end_index + 1]]
        plt.xlabel(str(f"{year_start} - {year_end}"))
        plt.xticks(rotation=33)
        plt.scatter(x_vals, y_vals, alpha=0.7, color='red')
        
    plt.ylabel("Average Temperature (C°)")
    plt.tight_layout()
    plt.title(f"Average Temperature in {display_name}")
    plt.show()

# plot wind data
def plot_wind(avg_wind, display_name, year_start, year_end):

    # generate start and end indices
    start_index, end_index = generate_year_indices(avg_wind, year_start, year_end)

    # use a line graph if only analyzing one year
    if year_start == year_end:
        x_vals = [num_to_month(int(x[1])) for x in avg_wind[start_index:end_index + 1]]
        y_vals = [float(x[2]) for x in avg_wind[start_index:end_index + 1]]

        plt.xlabel(str(year_start))
        plt.xticks(rotation=33)
        plt.plot(x_vals, y_vals, alpha=0.9, marker='.', ms=10)
    
    # use a scatter plot when multiple years are used with each dot being a month of the year
    else:
        x_vals = [x[0] for x in avg_wind[start_index:end_index + 1]]
        y_vals = [float(x[2]) for x in avg_wind[start_index:end_index + 1]]
        plt.xlabel(str(f"{year_start} - {year_end}"))
        plt.xticks(rotation=33)
        plt.scatter(x_vals, y_vals, alpha=0.7)
        
    plt.ylabel("Average Wind Speed (m/s)")
    plt.tight_layout()
    plt.title(f"Average Wind Speed in {display_name}")
    plt.show()

# do the stuff with the stuff
if __name__ == "__main__":
    avg_temp, avg_wind, display_name = wind_n_temp("dalatangi.csv")
    plot_temp(avg_temp, display_name, 2024, 2024)
    plot_wind(avg_wind, display_name, 2024, 2024)
    plot_temp(avg_temp, display_name, 2018, 2025)
    plot_wind(avg_wind, display_name, 2018, 2025)
